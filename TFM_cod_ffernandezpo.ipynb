{
 "cells": [
  {
   "cell_type": "markdown",
   "id": "d74476c8-45ab-468f-84e0-07512b0b448f",
   "metadata": {},
   "source": [
    "### Lectura de datos"
   ]
  },
  {
   "cell_type": "code",
   "execution_count": null,
   "id": "f589211a-5887-47ab-b547-92c6d16fc3b4",
   "metadata": {},
   "outputs": [],
   "source": []
  },
  {
   "cell_type": "code",
   "execution_count": null,
   "id": "3ede5c24-b259-4164-86a3-d338ae4af007",
   "metadata": {},
   "outputs": [],
   "source": []
  },
  {
   "cell_type": "markdown",
   "id": "7e7ac49e-517f-422d-8f38-52dc6b5cd49b",
   "metadata": {},
   "source": [
    "### Visualización de los datos"
   ]
  },
  {
   "cell_type": "code",
   "execution_count": null,
   "id": "f5218330-3d2c-42b8-b8bb-02c0aee1957c",
   "metadata": {},
   "outputs": [],
   "source": []
  },
  {
   "cell_type": "code",
   "execution_count": null,
   "id": "33e1044e-770e-40fc-9ef5-adfa4bf1a9a9",
   "metadata": {},
   "outputs": [],
   "source": []
  },
  {
   "cell_type": "code",
   "execution_count": null,
   "id": "0aed69a0-d395-4b7f-807e-4805cb82a66f",
   "metadata": {},
   "outputs": [],
   "source": []
  },
  {
   "cell_type": "markdown",
   "id": "2bd2971a-ba6a-4b10-85be-3aa7524e02ba",
   "metadata": {},
   "source": [
    "### Análisis descriptivo y muestra de datos"
   ]
  },
  {
   "cell_type": "code",
   "execution_count": null,
   "id": "0009b0b4-e541-4dfb-92c3-c77f2bbbe323",
   "metadata": {},
   "outputs": [],
   "source": []
  },
  {
   "cell_type": "code",
   "execution_count": null,
   "id": "8056b1ff-ee01-47bc-aad6-e865b8750261",
   "metadata": {},
   "outputs": [],
   "source": []
  },
  {
   "cell_type": "markdown",
   "id": "81a1e251-dd7f-4383-ae73-42c195eba068",
   "metadata": {},
   "source": [
    "### Data Cleaning"
   ]
  },
  {
   "cell_type": "code",
   "execution_count": null,
   "id": "33df72a6-204c-4316-b91d-3563f7e620c4",
   "metadata": {},
   "outputs": [],
   "source": []
  },
  {
   "cell_type": "markdown",
   "id": "9ab909a9-a462-4065-b493-1fd787ece745",
   "metadata": {},
   "source": [
    "### Normalización / Preprocesado"
   ]
  },
  {
   "cell_type": "code",
   "execution_count": null,
   "id": "f2871c7e-b2e8-48d8-bc8d-451265c17638",
   "metadata": {},
   "outputs": [],
   "source": []
  },
  {
   "cell_type": "code",
   "execution_count": null,
   "id": "c05c5337-5f0e-4a8f-bb01-876f70ec1988",
   "metadata": {},
   "outputs": [],
   "source": []
  },
  {
   "cell_type": "markdown",
   "id": "6e31d888-1e5a-4cf6-a6b4-760def71d7c8",
   "metadata": {},
   "source": [
    "### Implementación del modelo "
   ]
  },
  {
   "cell_type": "code",
   "execution_count": null,
   "id": "519fddec-e027-4307-8001-37c3d4052d96",
   "metadata": {},
   "outputs": [],
   "source": []
  },
  {
   "cell_type": "code",
   "execution_count": null,
   "id": "080e8e4a-92c6-437e-a485-754d7c5d25ea",
   "metadata": {},
   "outputs": [],
   "source": []
  },
  {
   "cell_type": "code",
   "execution_count": null,
   "id": "0093a41b-afe9-463d-b0a7-90e6037df041",
   "metadata": {},
   "outputs": [],
   "source": []
  },
  {
   "cell_type": "markdown",
   "id": "f41edcdd-e132-4b90-9c48-e6de1119a9a8",
   "metadata": {},
   "source": [
    "### Evaluación de resultados"
   ]
  },
  {
   "cell_type": "code",
   "execution_count": null,
   "id": "604816dc-b001-4da1-97af-3b2dd588c2c3",
   "metadata": {},
   "outputs": [],
   "source": []
  },
  {
   "cell_type": "code",
   "execution_count": null,
   "id": "3a43e8e7-881f-49a8-a0bc-2a981208507b",
   "metadata": {},
   "outputs": [],
   "source": []
  },
  {
   "cell_type": "markdown",
   "id": "4c98c645-f553-4afe-9d85-d88e7ca82298",
   "metadata": {},
   "source": [
    "### Tuning de hiperparámetros"
   ]
  },
  {
   "cell_type": "code",
   "execution_count": null,
   "id": "ad9a7536-2235-49d9-b28f-0c2759454389",
   "metadata": {},
   "outputs": [],
   "source": []
  },
  {
   "cell_type": "code",
   "execution_count": null,
   "id": "e5b0aee3-9540-4303-806e-0d03005bac7e",
   "metadata": {},
   "outputs": [],
   "source": []
  },
  {
   "cell_type": "code",
   "execution_count": null,
   "id": "2981ebcb-8bf3-4926-a0e5-53ee24a001ce",
   "metadata": {},
   "outputs": [],
   "source": []
  },
  {
   "cell_type": "markdown",
   "id": "1226bce9-9238-4413-aa30-548234ebc7e7",
   "metadata": {},
   "source": [
    "### Evaluación de resultados"
   ]
  },
  {
   "cell_type": "code",
   "execution_count": null,
   "id": "913eecf3-4240-4659-9119-abc0318b373a",
   "metadata": {},
   "outputs": [],
   "source": []
  }
 ],
 "metadata": {
  "kernelspec": {
   "display_name": "Python 3 (ipykernel)",
   "language": "python",
   "name": "python3"
  },
  "language_info": {
   "codemirror_mode": {
    "name": "ipython",
    "version": 3
   },
   "file_extension": ".py",
   "mimetype": "text/x-python",
   "name": "python",
   "nbconvert_exporter": "python",
   "pygments_lexer": "ipython3",
   "version": "3.10.9"
  }
 },
 "nbformat": 4,
 "nbformat_minor": 5
}
